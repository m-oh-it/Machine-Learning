{
 "cells": [
  {
   "cell_type": "markdown",
   "id": "a9a3c1b1",
   "metadata": {},
   "source": [
    "# 📉 Customer Churn Prediction Project"
   ]
  },
  {
   "cell_type": "markdown",
   "id": "c36e227f",
   "metadata": {},
   "source": [
    "### 🎯 Objective\n",
    "Build a classification model to predict whether a customer will churn."
   ]
  },
  {
   "cell_type": "code",
   "execution_count": null,
   "id": "11ce2db1",
   "metadata": {},
   "outputs": [],
   "source": [
    "# 📦 Import Libraries\n",
    "import pandas as pd\n",
    "import numpy as np\n",
    "import matplotlib.pyplot as plt\n",
    "import seaborn as sns\n",
    "from sklearn.model_selection import train_test_split\n",
    "from sklearn.preprocessing import LabelEncoder\n",
    "from sklearn.metrics import accuracy_score, classification_report, confusion_matrix\n",
    "from sklearn.linear_model import LogisticRegression\n",
    "from sklearn.ensemble import RandomForestClassifier\n",
    "import warnings\n",
    "warnings.filterwarnings(\"ignore\")"
   ]
  },
  {
   "cell_type": "code",
   "execution_count": null,
   "id": "35bc0172",
   "metadata": {},
   "outputs": [],
   "source": [
    "# 📥 Load Dataset\n",
    "df = pd.read_csv(\"Customer_data - customer_data.csv\")\n",
    "df.head()"
   ]
  },
  {
   "cell_type": "markdown",
   "id": "187d322d",
   "metadata": {},
   "source": [
    "## 🔍 Data Exploration"
   ]
  },
  {
   "cell_type": "code",
   "execution_count": null,
   "id": "f3d8a327",
   "metadata": {},
   "outputs": [],
   "source": [
    "df.info()\n",
    "df.describe(include='all')"
   ]
  },
  {
   "cell_type": "code",
   "execution_count": null,
   "id": "13d0f330",
   "metadata": {},
   "outputs": [],
   "source": [
    "# Check for missing values\n",
    "df.isnull().sum()"
   ]
  },
  {
   "cell_type": "markdown",
   "id": "d15a83c0",
   "metadata": {},
   "source": [
    "## 🧹 Data Preprocessing"
   ]
  },
  {
   "cell_type": "code",
   "execution_count": null,
   "id": "65a4255c",
   "metadata": {},
   "outputs": [],
   "source": [
    "# Convert TotalCharges to numeric and handle missing\n",
    "df['TotalCharges'] = pd.to_numeric(df['TotalCharges'], errors='coerce')\n",
    "df = df.dropna()\n",
    "\n",
    "# Drop customer ID\n",
    "df = df.drop('customerID', axis=1)"
   ]
  },
  {
   "cell_type": "code",
   "execution_count": null,
   "id": "398b8437",
   "metadata": {},
   "outputs": [],
   "source": [
    "# Encode binary categorical features\n",
    "binary_cols = ['Partner', 'Dependents', 'PhoneService', 'PaperlessBilling', 'Churn']\n",
    "for col in binary_cols:\n",
    "    df[col] = df[col].map({'Yes': 1, 'No': 0})\n",
    "\n",
    "# One-hot encode remaining categoricals\n",
    "df = pd.get_dummies(df, drop_first=True)"
   ]
  },
  {
   "cell_type": "markdown",
   "id": "5e197ef8",
   "metadata": {},
   "source": [
    "## ✂️ Feature Selection & Splitting"
   ]
  },
  {
   "cell_type": "code",
   "execution_count": null,
   "id": "8487cbea",
   "metadata": {},
   "outputs": [],
   "source": [
    "# Define features and target\n",
    "X = df.drop('Churn', axis=1)\n",
    "y = df['Churn']\n",
    "\n",
    "# Train-test split\n",
    "X_train, X_test, y_train, y_test = train_test_split(X, y, test_size=0.2, random_state=42)"
   ]
  },
  {
   "cell_type": "markdown",
   "id": "94f87e0b",
   "metadata": {},
   "source": [
    "## 🤖 Model Training"
   ]
  },
  {
   "cell_type": "code",
   "execution_count": null,
   "id": "b509b914",
   "metadata": {},
   "outputs": [],
   "source": [
    "# Logistic Regression\n",
    "lr = LogisticRegression()\n",
    "lr.fit(X_train, y_train)\n",
    "y_pred_lr = lr.predict(X_test)"
   ]
  },
  {
   "cell_type": "code",
   "execution_count": null,
   "id": "83e7e91c",
   "metadata": {},
   "outputs": [],
   "source": [
    "# Random Forest Classifier\n",
    "rf = RandomForestClassifier()\n",
    "rf.fit(X_train, y_train)\n",
    "y_pred_rf = rf.predict(X_test)"
   ]
  },
  {
   "cell_type": "markdown",
   "id": "c6173de1",
   "metadata": {},
   "source": [
    "## 📊 Evaluation"
   ]
  },
  {
   "cell_type": "code",
   "execution_count": null,
   "id": "e7c3ae57",
   "metadata": {},
   "outputs": [],
   "source": [
    "def evaluate_model(y_true, y_pred, model_name):\n",
    "    print(f\"\\n📈 {model_name} Evaluation Report:\")\n",
    "    print(classification_report(y_true, y_pred))\n",
    "    sns.heatmap(confusion_matrix(y_true, y_pred), annot=True, fmt='d', cmap='Blues')\n",
    "    plt.title(f\"{model_name} - Confusion Matrix\")\n",
    "    plt.xlabel(\"Predicted\")\n",
    "    plt.ylabel(\"Actual\")\n",
    "    plt.show()\n",
    "\n",
    "evaluate_model(y_test, y_pred_lr, \"Logistic Regression\")\n",
    "evaluate_model(y_test, y_pred_rf, \"Random Forest\")"
   ]
  },
  {
   "cell_type": "markdown",
   "id": "9df81b49",
   "metadata": {},
   "source": [
    "## 💡 Insights"
   ]
  },
  {
   "cell_type": "code",
   "execution_count": null,
   "id": "22a874bb",
   "metadata": {},
   "outputs": [],
   "source": [
    "# Feature Importance from Random Forest\n",
    "importances = pd.Series(rf.feature_importances_, index=X.columns)\n",
    "importances.nlargest(10).plot(kind='barh')\n",
    "plt.title(\"Top 10 Important Features\")\n",
    "plt.show()"
   ]
  },
  {
   "cell_type": "markdown",
   "id": "b8ae581e",
   "metadata": {},
   "source": [
    "### ✅ Conclusion\n",
    "- Built models to predict churn probability.\n",
    "- Identified key churn drivers like tenure, contract type, monthly charges.\n",
    "- Random Forest provided better performance."
   ]
  }
 ],
 "metadata": {},
 "nbformat": 4,
 "nbformat_minor": 5
}