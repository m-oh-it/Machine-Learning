{
 "cells": [
  {
   "cell_type": "markdown",
   "id": "7f11b41c",
   "metadata": {},
   "source": [
    "# 🏠 Airbnb Price Prediction Project"
   ]
  },
  {
   "cell_type": "markdown",
   "id": "de1cdfb7",
   "metadata": {},
   "source": [
    "### 📌 Objective\n",
    "Build a regression model to predict Airbnb listing prices based on property details."
   ]
  },
  {
   "cell_type": "code",
   "execution_count": null,
   "id": "2b6f9edc",
   "metadata": {},
   "outputs": [],
   "source": [
    "# 📦 Import Libraries\n",
    "import pandas as pd\n",
    "import numpy as np\n",
    "import matplotlib.pyplot as plt\n",
    "import seaborn as sns\n",
    "from sklearn.model_selection import train_test_split\n",
    "from sklearn.linear_model import LinearRegression\n",
    "from sklearn.metrics import mean_squared_error, mean_absolute_error, r2_score\n",
    "from sklearn.ensemble import RandomForestRegressor\n",
    "import xgboost as xgb\n",
    "import warnings\n",
    "warnings.filterwarnings(\"ignore\")"
   ]
  },
  {
   "cell_type": "code",
   "execution_count": null,
   "id": "a8cce4b0",
   "metadata": {},
   "outputs": [],
   "source": [
    "# 📥 Load Dataset\n",
    "df = pd.read_csv(\"Airbnb_data - airbnb_data.csv\")\n",
    "df.head()"
   ]
  },
  {
   "cell_type": "markdown",
   "id": "593bd73f",
   "metadata": {},
   "source": [
    "## 🔍 Data Exploration"
   ]
  },
  {
   "cell_type": "code",
   "execution_count": null,
   "id": "113f4e97",
   "metadata": {},
   "outputs": [],
   "source": [
    "df.info()\n",
    "df.describe()"
   ]
  },
  {
   "cell_type": "code",
   "execution_count": null,
   "id": "29f92e9c",
   "metadata": {},
   "outputs": [],
   "source": [
    "# Missing values\n",
    "df.isnull().sum().sort_values(ascending=False).head(10)"
   ]
  },
  {
   "cell_type": "markdown",
   "id": "18814eac",
   "metadata": {},
   "source": [
    "## 🧹 Data Preprocessing"
   ]
  },
  {
   "cell_type": "code",
   "execution_count": null,
   "id": "01b3a602",
   "metadata": {},
   "outputs": [],
   "source": [
    "# Drop unneeded columns and handle missing data\n",
    "df = df.drop(columns=['id', 'name', 'thumbnail_url', 'zipcode'])\n",
    "df = df.dropna(subset=['log_price'])  # target should not be missing\n",
    "df['bedrooms'].fillna(df['bedrooms'].median(), inplace=True)\n",
    "df['review_scores_rating'].fillna(df['review_scores_rating'].mean(), inplace=True)\n",
    "df = df.dropna()  # drop remaining for simplicity"
   ]
  },
  {
   "cell_type": "code",
   "execution_count": null,
   "id": "326915b2",
   "metadata": {},
   "outputs": [],
   "source": [
    "# One-hot encoding for categorical variables\n",
    "categorical_cols = ['property_type', 'room_type', 'bed_type', 'cancellation_policy', 'neighbourhood']\n",
    "df = pd.get_dummies(df, columns=categorical_cols, drop_first=True)"
   ]
  },
  {
   "cell_type": "markdown",
   "id": "fb946a0b",
   "metadata": {},
   "source": [
    "## ✂️ Feature Selection & Splitting"
   ]
  },
  {
   "cell_type": "code",
   "execution_count": null,
   "id": "e1571107",
   "metadata": {},
   "outputs": [],
   "source": [
    "# Define features and target\n",
    "X = df.drop(columns=['log_price'])\n",
    "y = df['log_price']\n",
    "\n",
    "# Split the data\n",
    "X_train, X_test, y_train, y_test = train_test_split(X, y, test_size=0.2, random_state=42)"
   ]
  },
  {
   "cell_type": "markdown",
   "id": "2b017d43",
   "metadata": {},
   "source": [
    "## 🤖 Model Building"
   ]
  },
  {
   "cell_type": "code",
   "execution_count": null,
   "id": "4e72ad39",
   "metadata": {},
   "outputs": [],
   "source": [
    "# Linear Regression\n",
    "lr = LinearRegression()\n",
    "lr.fit(X_train, y_train)\n",
    "y_pred_lr = lr.predict(X_test)"
   ]
  },
  {
   "cell_type": "code",
   "execution_count": null,
   "id": "48962edd",
   "metadata": {},
   "outputs": [],
   "source": [
    "# XGBoost\n",
    "xgbr = xgb.XGBRegressor()\n",
    "xgbr.fit(X_train, y_train)\n",
    "y_pred_xgb = xgbr.predict(X_test)"
   ]
  },
  {
   "cell_type": "markdown",
   "id": "9c984352",
   "metadata": {},
   "source": [
    "## 📊 Evaluation"
   ]
  },
  {
   "cell_type": "code",
   "execution_count": null,
   "id": "05b667d1",
   "metadata": {},
   "outputs": [],
   "source": [
    "def evaluate_model(y_true, y_pred, model_name):\n",
    "    print(f\"📈 {model_name} Evaluation\")\n",
    "    print(\"RMSE:\", np.sqrt(mean_squared_error(y_true, y_pred)))\n",
    "    print(\"MAE:\", mean_absolute_error(y_true, y_pred))\n",
    "    print(\"R² Score:\", r2_score(y_true, y_pred))\n",
    "\n",
    "evaluate_model(y_test, y_pred_lr, \"Linear Regression\")\n",
    "evaluate_model(y_test, y_pred_xgb, \"XGBoost\")"
   ]
  },
  {
   "cell_type": "markdown",
   "id": "dd245c08",
   "metadata": {},
   "source": [
    "## 💡 Insights"
   ]
  },
  {
   "cell_type": "code",
   "execution_count": null,
   "id": "37ebce54",
   "metadata": {},
   "outputs": [],
   "source": [
    "# Feature Importance from XGBoost\n",
    "importances = pd.Series(xgbr.feature_importances_, index=X.columns)\n",
    "importances.nlargest(10).plot(kind='barh')\n",
    "plt.title(\"Top 10 Important Features\")\n",
    "plt.show()"
   ]
  },
  {
   "cell_type": "markdown",
   "id": "ed0af662",
   "metadata": {},
   "source": [
    "### ✅ Conclusion\n",
    "- Built models to predict Airbnb prices.\n",
    "- Identified top factors influencing prices.\n",
    "- XGBoost performed better based on RMSE and R²."
   ]
  }
 ],
 "metadata": {},
 "nbformat": 4,
 "nbformat_minor": 5
}